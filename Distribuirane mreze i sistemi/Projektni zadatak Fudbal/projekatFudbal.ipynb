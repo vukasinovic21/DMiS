{
 "cells": [
  {
   "cell_type": "code",
   "execution_count": 1,
   "id": "7a09d2cf",
   "metadata": {},
   "outputs": [
    {
     "name": "stdout",
     "output_type": "stream",
     "text": [
      "+----------+---------+---------+----------+----------+----------+-------+--------+-------+\n",
      "|      date|home_team|away_team|home_score|away_score|tournament|   city| country|neutral|\n",
      "+----------+---------+---------+----------+----------+----------+-------+--------+-------+\n",
      "|1872-11-30| Scotland|  England|         0|         0|  Friendly|Glasgow|Scotland|  FALSE|\n",
      "|1873-03-08|  England| Scotland|         4|         2|  Friendly| London| England|  FALSE|\n",
      "|1874-03-07| Scotland|  England|         2|         1|  Friendly|Glasgow|Scotland|  FALSE|\n",
      "|1875-03-06|  England| Scotland|         2|         2|  Friendly| London| England|  FALSE|\n",
      "|1876-03-04| Scotland|  England|         3|         0|  Friendly|Glasgow|Scotland|  FALSE|\n",
      "+----------+---------+---------+----------+----------+----------+-------+--------+-------+\n",
      "only showing top 5 rows\n",
      "+----------+---------+---------+---------+----------------+------+--------+-------+\n",
      "|      date|home_team|away_team|     team|          scorer|minute|own_goal|penalty|\n",
      "+----------+---------+---------+---------+----------------+------+--------+-------+\n",
      "|1916-07-02|    Chile|  Uruguay|  Uruguay| José Piendibene|    44|   FALSE|  FALSE|\n",
      "|1916-07-02|    Chile|  Uruguay|  Uruguay|Isabelino Gradín|    55|   FALSE|  FALSE|\n",
      "|1916-07-02|    Chile|  Uruguay|  Uruguay|Isabelino Gradín|    70|   FALSE|  FALSE|\n",
      "|1916-07-02|    Chile|  Uruguay|  Uruguay| José Piendibene|    75|   FALSE|  FALSE|\n",
      "|1916-07-06|Argentina|    Chile|Argentina|   Alberto Ohaco|     2|   FALSE|  FALSE|\n",
      "+----------+---------+---------+---------+----------------+------+--------+-------+\n",
      "only showing top 5 rows\n"
     ]
    }
   ],
   "source": [
    "from pyspark.sql import SparkSession, functions as F\n",
    "\n",
    "spark = SparkSession.builder \\\n",
    "    .appName(\"Footbal project\") \\\n",
    "    .getOrCreate()\n",
    "\n",
    "results_df = spark.read.option(\"header\", \"true\").csv(\"results.csv\")\n",
    "goals_df = spark.read.option(\"header\", \"true\").csv(\"goalscorers.csv\")\n",
    "\n",
    "results_df.show(5)\n",
    "goals_df.show(5)\n"
   ]
  },
  {
   "cell_type": "markdown",
   "id": "3f038982",
   "metadata": {},
   "source": [
    "Prvi zadatak: najbolja i najgora gol razlika Srbije "
   ]
  },
  {
   "cell_type": "code",
   "execution_count": null,
   "id": "7c785c19",
   "metadata": {},
   "outputs": [],
   "source": [
    "rdd = results_df.rdd.map(lambda row: (\n",
    "    row['home_team'], \n",
    "    row['away_team'], \n",
    "    int(row['home_score']), \n",
    "    int(row['away_score'])\n",
    "))\n",
    "\n",
    "serbia_rdd = rdd.filter(lambda x: x[0] == 'Serbia' or x[1] == 'Serbia')\n",
    "\n",
    "def map_goal_diff(match):\n",
    "    home, away, home_score, away_score = match\n",
    "    if home == 'Serbia':\n",
    "        opponent = away\n",
    "        diff = home_score - away_score\n",
    "    else:\n",
    "        opponent = home\n",
    "        diff = away_score - home_score\n",
    "    return (opponent, diff)\n",
    "\n",
    "mapped = serbia_rdd.map(map_goal_diff)\n",
    "reduced = mapped.reduceByKey(lambda a, b: a + b)\n",
    "\n",
    "best = reduced.max(key=lambda x: x[1])\n",
    "worst = reduced.min(key=lambda x: x[1])\n",
    "\n",
    "print(\"Najbolja gol razlika sa Srbijom:\", best)\n",
    "print(\"Najgora gol razlika sa Srbijom:\", worst)"
   ]
  },
  {
   "cell_type": "markdown",
   "id": "7d2d2c70",
   "metadata": {},
   "source": [
    "Najbolja gol razlika:\n",
    "Najgora gol razlika:"
   ]
  },
  {
   "cell_type": "markdown",
   "id": "2c9eded4",
   "metadata": {},
   "source": [
    "Drugi zadatak: Fudbaleri sa het-trikom na Evropskom"
   ]
  },
  {
   "cell_type": "code",
   "execution_count": 7,
   "id": "85b12bf4",
   "metadata": {},
   "outputs": [
    {
     "name": "stdout",
     "output_type": "stream",
     "text": [
      "+----------+-----------+-----------+-----------+----------------+-----------+---------+-----------+\n",
      "|Datum     |Domaći     |Gosti      |Igra za    |Strelac         |Broj golova|Turnir   |Zemlja     |\n",
      "+----------+-----------+-----------+-----------+----------------+-----------+---------+-----------+\n",
      "|1984-06-19|France     |Yugoslavia |France     |Michel Platini  |3          |UEFA Euro|France     |\n",
      "|1984-06-16|France     |Belgium    |France     |Michel Platini  |3          |UEFA Euro|France     |\n",
      "|2000-06-25|Netherlands|Serbia     |Netherlands|Patrick Kluivert|3          |UEFA Euro|Netherlands|\n",
      "|1976-06-17|Yugoslavia |Germany    |Germany    |Dieter Müller   |3          |UEFA Euro|Yugoslavia |\n",
      "|2000-06-20|Portugal   |Germany    |Portugal   |Sérgio Conceição|3          |UEFA Euro|Netherlands|\n",
      "|1988-06-15|England    |Netherlands|Netherlands|Marco van Basten|3          |UEFA Euro|Germany    |\n",
      "|1980-06-14|Germany    |Netherlands|Germany    |Klaus Allofs    |3          |UEFA Euro|Italy      |\n",
      "|2008-06-10|Spain      |Russia     |Spain      |David Villa     |3          |UEFA Euro|Austria    |\n",
      "+----------+-----------+-----------+-----------+----------------+-----------+---------+-----------+\n",
      "\n"
     ]
    }
   ],
   "source": [
    "df2 = goals_df.join(results_df, on=[\"date\", \"home_team\", \"away_team\"], how=\"left\")\n",
    "\n",
    "euro_df = df2.filter(F.col(\"tournament\") == \"UEFA Euro\")\n",
    "\n",
    "hat_tricks = (\n",
    "    euro_df.groupBy(\"date\", \"home_team\", \"away_team\", \"team\", \"scorer\", \"tournament\", \"country\")\n",
    "    .agg(F.count(\"*\").alias(\"golova\"))\n",
    "    .filter(F.col(\"golova\") >= 3)\n",
    ")\n",
    "\n",
    "hat_tricks.select(\n",
    "    F.col(\"date\").alias(\"Datum\"),\n",
    "    F.col(\"home_team\").alias(\"Domaći\"),\n",
    "    F.col(\"away_team\").alias(\"Gosti\"),\n",
    "    F.col(\"team\").alias(\"Igra za\"),\n",
    "    F.col(\"scorer\").alias(\"Strelac\"),\n",
    "    F.col(\"golova\").alias(\"Broj golova\"),\n",
    "    F.col(\"tournament\").alias(\"Turnir\"),\n",
    "    F.col(\"country\").alias(\"Zemlja\")\n",
    ").show(truncate=False)"
   ]
  },
  {
   "cell_type": "markdown",
   "id": "5029c751",
   "metadata": {},
   "source": [
    "+----------+-----------+-----------+-----------+----------------+-----------+---------+-----------+\n",
    "|Datum     |Domaći     |Gosti      |Igra za    |Strelac         |Broj golova|Turnir   |Zemlja     |\n",
    "+----------+-----------+-----------+-----------+----------------+-----------+---------+-----------+\n",
    "|1984-06-19|France     |Yugoslavia |France     |Michel Platini  |3          |UEFA Euro|France     |\n",
    "|1984-06-16|France     |Belgium    |France     |Michel Platini  |3          |UEFA Euro|France     |\n",
    "|2000-06-25|Netherlands|Serbia     |Netherlands|Patrick Kluivert|3          |UEFA Euro|Netherlands|\n",
    "|1976-06-17|Yugoslavia |Germany    |Germany    |Dieter Müller   |3          |UEFA Euro|Yugoslavia |\n",
    "|2000-06-20|Portugal   |Germany    |Portugal   |Sérgio Conceição|3          |UEFA Euro|Netherlands|\n",
    "|1988-06-15|England    |Netherlands|Netherlands|Marco van Basten|3          |UEFA Euro|Germany    |\n",
    "|1980-06-14|Germany    |Netherlands|Germany    |Klaus Allofs    |3          |UEFA Euro|Italy      |\n",
    "|2008-06-10|Spain      |Russia     |Spain      |David Villa     |3          |UEFA Euro|Austria    |\n",
    "+----------+-----------+-----------+-----------+----------------+-----------+---------+-----------+\n"
   ]
  },
  {
   "cell_type": "code",
   "execution_count": null,
   "id": "1f0488e7",
   "metadata": {},
   "outputs": [],
   "source": []
  }
 ],
 "metadata": {
  "kernelspec": {
   "display_name": "Python 3",
   "language": "python",
   "name": "python3"
  },
  "language_info": {
   "codemirror_mode": {
    "name": "ipython",
    "version": 3
   },
   "file_extension": ".py",
   "mimetype": "text/x-python",
   "name": "python",
   "nbconvert_exporter": "python",
   "pygments_lexer": "ipython3",
   "version": "3.12.1"
  }
 },
 "nbformat": 4,
 "nbformat_minor": 5
}
