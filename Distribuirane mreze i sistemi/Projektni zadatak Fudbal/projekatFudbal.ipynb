{
 "cells": [
  {
   "cell_type": "code",
   "execution_count": 32,
   "id": "7a09d2cf",
   "metadata": {},
   "outputs": [
    {
     "name": "stdout",
     "output_type": "stream",
     "text": [
      "+----------+---------+---------+----------+----------+----------+-------+--------+-------+\n",
      "|      date|home_team|away_team|home_score|away_score|tournament|   city| country|neutral|\n",
      "+----------+---------+---------+----------+----------+----------+-------+--------+-------+\n",
      "|1872-11-30| Scotland|  England|         0|         0|  Friendly|Glasgow|Scotland|  FALSE|\n",
      "|1873-03-08|  England| Scotland|         4|         2|  Friendly| London| England|  FALSE|\n",
      "|1874-03-07| Scotland|  England|         2|         1|  Friendly|Glasgow|Scotland|  FALSE|\n",
      "|1875-03-06|  England| Scotland|         2|         2|  Friendly| London| England|  FALSE|\n",
      "|1876-03-04| Scotland|  England|         3|         0|  Friendly|Glasgow|Scotland|  FALSE|\n",
      "+----------+---------+---------+----------+----------+----------+-------+--------+-------+\n",
      "only showing top 5 rows\n",
      "+----------+---------+---------+---------+----------------+------+--------+-------+\n",
      "|      date|home_team|away_team|     team|          scorer|minute|own_goal|penalty|\n",
      "+----------+---------+---------+---------+----------------+------+--------+-------+\n",
      "|1916-07-02|    Chile|  Uruguay|  Uruguay| José Piendibene|    44|   FALSE|  FALSE|\n",
      "|1916-07-02|    Chile|  Uruguay|  Uruguay|Isabelino Gradín|    55|   FALSE|  FALSE|\n",
      "|1916-07-02|    Chile|  Uruguay|  Uruguay|Isabelino Gradín|    70|   FALSE|  FALSE|\n",
      "|1916-07-02|    Chile|  Uruguay|  Uruguay| José Piendibene|    75|   FALSE|  FALSE|\n",
      "|1916-07-06|Argentina|    Chile|Argentina|   Alberto Ohaco|     2|   FALSE|  FALSE|\n",
      "+----------+---------+---------+---------+----------------+------+--------+-------+\n",
      "only showing top 5 rows\n"
     ]
    }
   ],
   "source": [
    "from pyspark.sql import SparkSession, functions as F, Window\n",
    "\n",
    "spark = SparkSession.builder \\\n",
    "    .appName(\"Footbal project\") \\\n",
    "    .getOrCreate()\n",
    "\n",
    "results_df = spark.read.option(\"header\", \"true\").csv(\"results.csv\")\n",
    "goals_df = spark.read.option(\"header\", \"true\").csv(\"goalscorers.csv\")\n",
    "\n",
    "results_df.show(5)\n",
    "goals_df.show(5)\n"
   ]
  },
  {
   "cell_type": "markdown",
   "id": "3f038982",
   "metadata": {},
   "source": [
    "Prvi zadatak: najbolja i najgora gol razlika Srbije "
   ]
  },
  {
   "cell_type": "code",
   "execution_count": null,
   "id": "7c785c19",
   "metadata": {},
   "outputs": [],
   "source": [
    "rdd = results_df.rdd.map(lambda row: (\n",
    "    row['home_team'], \n",
    "    row['away_team'], \n",
    "    int(row['home_score']), \n",
    "    int(row['away_score'])\n",
    "))\n",
    "\n",
    "serbia_rdd = rdd.filter(lambda x: x[0] == 'Serbia' or x[1] == 'Serbia')\n",
    "\n",
    "def map_goal_diff(match):\n",
    "    home, away, home_score, away_score = match\n",
    "    if home == 'Serbia':\n",
    "        opponent = away\n",
    "        diff = home_score - away_score\n",
    "    else:\n",
    "        opponent = home\n",
    "        diff = away_score - home_score\n",
    "    return (opponent, diff)\n",
    "\n",
    "mapped = serbia_rdd.map(map_goal_diff)\n",
    "reduced = mapped.reduceByKey(lambda a, b: a + b)\n",
    "\n",
    "best = reduced.max(key=lambda x: x[1])\n",
    "worst = reduced.min(key=lambda x: x[1])\n",
    "\n",
    "print(\"Najbolja gol razlika sa Srbijom:\", best)\n",
    "print(\"Najgora gol razlika sa Srbijom:\", worst)"
   ]
  },
  {
   "cell_type": "markdown",
   "id": "7d2d2c70",
   "metadata": {},
   "source": [
    "Najbolja gol razlika:\n",
    "Najgora gol razlika:"
   ]
  },
  {
   "cell_type": "markdown",
   "id": "2c9eded4",
   "metadata": {},
   "source": [
    "Drugi zadatak: Fudbaleri sa het-trikom na Evropskom"
   ]
  },
  {
   "cell_type": "code",
   "execution_count": null,
   "id": "85b12bf4",
   "metadata": {},
   "outputs": [
    {
     "name": "stdout",
     "output_type": "stream",
     "text": [
      "+----------+-----------+-----------+-----------+----------------+------------------+---------+-----------+\n",
      "|Datum     |Domaći     |Gosti      |Igra za    |Strelac         |Golova na utakmici|Turnir   |Zemlja     |\n",
      "+----------+-----------+-----------+-----------+----------------+------------------+---------+-----------+\n",
      "|1984-06-19|France     |Yugoslavia |France     |Michel Platini  |3                 |UEFA Euro|France     |\n",
      "|1984-06-16|France     |Belgium    |France     |Michel Platini  |3                 |UEFA Euro|France     |\n",
      "|2000-06-25|Netherlands|Serbia     |Netherlands|Patrick Kluivert|3                 |UEFA Euro|Netherlands|\n",
      "|1976-06-17|Yugoslavia |Germany    |Germany    |Dieter Müller   |3                 |UEFA Euro|Yugoslavia |\n",
      "|2000-06-20|Portugal   |Germany    |Portugal   |Sérgio Conceição|3                 |UEFA Euro|Netherlands|\n",
      "|1988-06-15|England    |Netherlands|Netherlands|Marco van Basten|3                 |UEFA Euro|Germany    |\n",
      "|1980-06-14|Germany    |Netherlands|Germany    |Klaus Allofs    |3                 |UEFA Euro|Italy      |\n",
      "|2008-06-10|Spain      |Russia     |Spain      |David Villa     |3                 |UEFA Euro|Austria    |\n",
      "+----------+-----------+-----------+-----------+----------------+------------------+---------+-----------+\n",
      "\n"
     ]
    }
   ],
   "source": [
    "df2 = goals_df.join(results_df, on=[\"date\", \"home_team\", \"away_team\"], how=\"left\")\n",
    "\n",
    "euro_df = df2.filter(F.col(\"tournament\") == \"UEFA Euro\")\n",
    "\n",
    "hat_tricks = (\n",
    "    euro_df.groupBy(\"date\", \"home_team\", \"away_team\", \"team\", \"scorer\", \"tournament\", \"country\")\n",
    "    .agg(F.count(\"*\").alias(\"golova\"))\n",
    "    .filter(F.col(\"golova\") >= 3)\n",
    ")\n",
    "\n",
    "hat_tricks.select(\n",
    "    F.col(\"date\").alias(\"Datum\"),\n",
    "    F.col(\"home_team\").alias(\"Domaći\"),\n",
    "    F.col(\"away_team\").alias(\"Gosti\"),\n",
    "    F.col(\"team\").alias(\"Igra za\"),\n",
    "    F.col(\"scorer\").alias(\"Strelac\"),\n",
    "    F.col(\"golova\").alias(\"Golova na utakmici\"),\n",
    "    F.col(\"tournament\").alias(\"Turnir\"),\n",
    "    F.col(\"country\").alias(\"Zemlja\")\n",
    ").show(truncate=False)"
   ]
  },
  {
   "cell_type": "markdown",
   "id": "5029c751",
   "metadata": {},
   "source": [
    "+----------+-----------+-----------+-----------+----------------+------------------+---------+-----------+\n",
    "|Datum     |Domaći     |Gosti      |Igra za    |Strelac         |Golova na utakmici|Turnir   |Zemlja     |\n",
    "+----------+-----------+-----------+-----------+----------------+------------------+---------+-----------+\n",
    "|1984-06-19|France     |Yugoslavia |France     |Michel Platini  |3                 |UEFA Euro|France     |\n",
    "|1984-06-16|France     |Belgium    |France     |Michel Platini  |3                 |UEFA Euro|France     |\n",
    "|2000-06-25|Netherlands|Serbia     |Netherlands|Patrick Kluivert|3                 |UEFA Euro|Netherlands|\n",
    "|1976-06-17|Yugoslavia |Germany    |Germany    |Dieter Müller   |3                 |UEFA Euro|Yugoslavia |\n",
    "|2000-06-20|Portugal   |Germany    |Portugal   |Sérgio Conceição|3                 |UEFA Euro|Netherlands|\n",
    "|1988-06-15|England    |Netherlands|Netherlands|Marco van Basten|3                 |UEFA Euro|Germany    |\n",
    "|1980-06-14|Germany    |Netherlands|Germany    |Klaus Allofs    |3                 |UEFA Euro|Italy      |\n",
    "|2008-06-10|Spain      |Russia     |Spain      |David Villa     |3                 |UEFA Euro|Austria    |\n",
    "+----------+-----------+-----------+-----------+----------------+------------------+---------+-----------+\n"
   ]
  },
  {
   "cell_type": "markdown",
   "id": "6ea1c3e3",
   "metadata": {},
   "source": [
    "Treci zadatak: Najbolji strelci na svetskom od 1990."
   ]
  },
  {
   "cell_type": "code",
   "execution_count": 31,
   "id": "1f0488e7",
   "metadata": {},
   "outputs": [
    {
     "name": "stdout",
     "output_type": "stream",
     "text": [
      "+-------------------+--------------+------+----+------+--------------+-------------+\n",
      "|Strelac            |Reprezentacija|Golova|Rang|Godina|Turnir        |Zemlja       |\n",
      "+-------------------+--------------+------+----+------+--------------+-------------+\n",
      "|Salvatore Schillaci|Italy         |6     |1   |1990  |FIFA World Cup|Italy        |\n",
      "|Tomáš Skuhravý     |Czechoslovakia|5     |2   |1990  |FIFA World Cup|Italy        |\n",
      "|Hristo Stoichkov   |Bulgaria      |6     |1   |1994  |FIFA World Cup|United States|\n",
      "|Oleg Salenko       |Russia        |6     |2   |1994  |FIFA World Cup|United States|\n",
      "|Davor Šuker        |Croatia       |6     |1   |1998  |FIFA World Cup|France       |\n",
      "|Christian Vieri    |Italy         |5     |2   |1998  |FIFA World Cup|France       |\n",
      "|Ronaldo            |Brazil        |8     |1   |2002  |FIFA World Cup|South Korea  |\n",
      "|Miroslav Klose     |Germany       |5     |2   |2002  |FIFA World Cup|Japan        |\n",
      "|Miroslav Klose     |Germany       |5     |1   |2006  |FIFA World Cup|Germany      |\n",
      "|David Villa        |Spain         |3     |2   |2006  |FIFA World Cup|Germany      |\n",
      "|David Villa        |Spain         |5     |1   |2010  |FIFA World Cup|South Africa |\n",
      "|Diego Forlán       |Uruguay       |5     |2   |2010  |FIFA World Cup|South Africa |\n",
      "|James Rodríguez    |Colombia      |6     |1   |2014  |FIFA World Cup|Brazil       |\n",
      "|Thomas Müller      |Germany       |5     |2   |2014  |FIFA World Cup|Brazil       |\n",
      "|Harry Kane         |England       |6     |1   |2018  |FIFA World Cup|Russia       |\n",
      "|Antoine Griezmann  |France        |4     |2   |2018  |FIFA World Cup|Russia       |\n",
      "|Kylian Mbappé      |France        |8     |1   |2022  |FIFA World Cup|Qatar        |\n",
      "|Lionel Messi       |Argentina     |7     |2   |2022  |FIFA World Cup|Qatar        |\n",
      "+-------------------+--------------+------+----+------+--------------+-------------+\n",
      "\n"
     ]
    }
   ],
   "source": [
    "df3 = goals_df.join(results_df, on=[\"date\", \"home_team\", \"away_team\"], how=\"left\")\n",
    "\n",
    "df_wc = df3.filter(F.col(\"tournament\") == \"FIFA World Cup\") \\\n",
    "        .withColumn(\"godina\", F.year(F.to_date(F.col(\"date\"), \"yyyy-MM-dd\"))) \\\n",
    "        .filter(F.col(\"godina\") >= 1990)\n",
    "\n",
    "scorers = df_wc.groupBy(\"scorer\", \"team\", \"godina\") \\\n",
    "        .agg(F.count(\"*\").alias(\"Golova\"),\n",
    "             F.first(\"tournament\").alias(\"Turnir\"),\n",
    "             F.first(\"country\").alias(\"Zemlja\"))\n",
    "\n",
    "window = Window.partitionBy(\"godina\").orderBy(F.desc(\"Golova\"))\n",
    "\n",
    "top_scorers = scorers.withColumn(\"rang\", F.row_number().over(window)) \\\n",
    "                     .filter(F.col(\"rang\") <= 2) \\\n",
    "                     .orderBy(\"godina\", F.desc(\"Golova\"))\n",
    "\n",
    "\n",
    "top_scorers.select(\n",
    "    F.col(\"scorer\").alias(\"Strelac\"),\n",
    "    F.col(\"team\").alias(\"Reprezentacija\"),\n",
    "    F.col(\"Golova\"),\n",
    "    F.col(\"Rang\"),\n",
    "    F.col(\"Godina\"),\n",
    "    F.col(\"Turnir\"),\n",
    "    F.col(\"Zemlja\")\n",
    ").show(truncate=False)"
   ]
  },
  {
   "cell_type": "markdown",
   "id": "63c23f4b",
   "metadata": {},
   "source": [
    "+-------------------+--------------+------+----+------+--------------+-------------+\n",
    "|Strelac            |Reprezentacija|Golova|Rang|Godina|Turnir        |Zemlja       |\n",
    "+-------------------+--------------+------+----+------+--------------+-------------+\n",
    "|Salvatore Schillaci|Italy         |6     |1   |1990  |FIFA World Cup|Italy        |\n",
    "|Tomáš Skuhravý     |Czechoslovakia|5     |2   |1990  |FIFA World Cup|Italy        |\n",
    "|Hristo Stoichkov   |Bulgaria      |6     |1   |1994  |FIFA World Cup|United States|\n",
    "|Oleg Salenko       |Russia        |6     |2   |1994  |FIFA World Cup|United States|\n",
    "|Davor Šuker        |Croatia       |6     |1   |1998  |FIFA World Cup|France       |\n",
    "|Christian Vieri    |Italy         |5     |2   |1998  |FIFA World Cup|France       |\n",
    "|Ronaldo            |Brazil        |8     |1   |2002  |FIFA World Cup|South Korea  |\n",
    "|Miroslav Klose     |Germany       |5     |2   |2002  |FIFA World Cup|Japan        |\n",
    "|Miroslav Klose     |Germany       |5     |1   |2006  |FIFA World Cup|Germany      |\n",
    "|David Villa        |Spain         |3     |2   |2006  |FIFA World Cup|Germany      |\n",
    "|David Villa        |Spain         |5     |1   |2010  |FIFA World Cup|South Africa |\n",
    "|Diego Forlán       |Uruguay       |5     |2   |2010  |FIFA World Cup|South Africa |\n",
    "|James Rodríguez    |Colombia      |6     |1   |2014  |FIFA World Cup|Brazil       |\n",
    "|Thomas Müller      |Germany       |5     |2   |2014  |FIFA World Cup|Brazil       |\n",
    "|Harry Kane         |England       |6     |1   |2018  |FIFA World Cup|Russia       |\n",
    "|Antoine Griezmann  |France        |4     |2   |2018  |FIFA World Cup|Russia       |\n",
    "|Kylian Mbappé      |France        |8     |1   |2022  |FIFA World Cup|Qatar        |\n",
    "|Lionel Messi       |Argentina     |7     |2   |2022  |FIFA World Cup|Qatar        |\n",
    "+-------------------+--------------+------+----+------+--------------+-------------+\n"
   ]
  },
  {
   "cell_type": "markdown",
   "id": "886273ad",
   "metadata": {},
   "source": [
    "Cetvrti zadatak: 20 reprezentacija koji su najduze bez pobede od 1980."
   ]
  },
  {
   "cell_type": "code",
   "execution_count": 38,
   "id": "09d72d91",
   "metadata": {},
   "outputs": [
    {
     "name": "stdout",
     "output_type": "stream",
     "text": [
      "+-------------------+-------------------+-----------+------------------+---------------------+-----------+\n",
      "|Reprezentacija     |Poraz od           |Poraz_datum|Prethodni_poraz_od|Prethodni_poraz_datum|Period_dana|\n",
      "+-------------------+-------------------+-----------+------------------+---------------------+-----------+\n",
      "|Yugoslavia         |Basque Country     |1997-12-26 |Netherlands       |1992-03-25           |2102       |\n",
      "|North Korea        |Kuwait             |1998-09-13 |South Korea       |1993-10-28           |1781       |\n",
      "|Cuba               |Trinidad and Tobago|1992-06-24 |Guatemala         |1988-04-30           |1516       |\n",
      "|Haiti              |Colombia           |1989-06-27 |Guatemala         |1985-05-15           |1504       |\n",
      "|Mexico             |Canada             |1990-05-13 |England           |1986-05-17           |1457       |\n",
      "|United States      |Guatemala          |1984-10-14 |Mexico            |1980-11-09           |1435       |\n",
      "|DR Congo           |Ivory Coast        |1985-03-05 |Ghana             |1981-08-02           |1311       |\n",
      "|Spain              |France             |1998-01-28 |Italy             |1994-07-09           |1299       |\n",
      "|Argentina          |Saudi Arabia       |2022-11-22 |Brazil            |2019-07-02           |1239       |\n",
      "|Panama             |Cuba               |1984-03-18 |Honduras          |1980-12-14           |1190       |\n",
      "|Algeria            |Equatorial Guinea  |2022-01-16 |Benin             |2018-10-16           |1188       |\n",
      "|Trinidad and Tobago|Canada             |1988-10-02 |Costa Rica        |1985-07-18           |1172       |\n",
      "|Iraq               |China PR           |2000-09-03 |Kazakhstan        |1997-06-29           |1162       |\n",
      "|Italy              |Spain              |2021-10-06 |Portugal          |2018-09-10           |1122       |\n",
      "|France             |Denmark            |1996-11-09 |Bulgaria          |1993-11-17           |1088       |\n",
      "|Israel             |Northern Ireland   |1984-10-16 |Northern Ireland  |1981-11-18           |1063       |\n",
      "|Saudi Arabia       |Egypt              |1992-09-17 |South Korea       |1989-10-25           |1058       |\n",
      "|Ivory Coast        |Mali               |1983-01-09 |Egypt             |1980-03-08           |1037       |\n",
      "|Costa Rica         |United States      |1988-06-14 |Honduras          |1985-09-08           |1010       |\n",
      "|Colombia           |Bolivia            |1994-04-07 |Argentina         |1991-07-21           |991        |\n",
      "+-------------------+-------------------+-----------+------------------+---------------------+-----------+\n",
      "\n"
     ]
    }
   ],
   "source": [
    "wc_matches = results_df.filter(F.col(\"tournament\") == \"FIFA World Cup\")\n",
    "df4 = results_df.withColumn(\"date\", F.to_date(F.col(\"date\"), \"yyyy-MM-dd\"))\n",
    "df4 = df4.filter(F.year(\"date\") >= 1980)\n",
    "\n",
    "wc_teams = (wc_matches.select(F.col(\"home_team\").alias(\"team\"))\n",
    "            .union(wc_matches.select(F.col(\"away_team\").alias(\"team\")))\n",
    "            .distinct())\n",
    "\n",
    "team_list = [row['team'] for row in wc_teams.collect()]\n",
    "\n",
    "losses = (df4.filter(F.col(\"home_score\") < F.col(\"away_score\"))\n",
    "            .select(F.col(\"home_team\").alias(\"team\"), \"date\", F.col(\"away_team\").alias(\"opponent\")))\n",
    "losses = losses.union(\n",
    "    df4.filter(F.col(\"away_score\") < F.col(\"home_score\"))\n",
    "      .select(F.col(\"away_team\").alias(\"team\"), \"date\", F.col(\"home_team\").alias(\"opponent\"))\n",
    ")\n",
    "losses = losses.orderBy(\"team\", \"date\")\n",
    "\n",
    "w = Window.partitionBy(\"team\").orderBy(\"date\")\n",
    "losses = (losses.withColumn(\"Prethodni_poraz_datum\", F.lag(\"date\").over(w))\n",
    "                .withColumn(\"Prethodni_poraz_od\", F.lag(\"opponent\").over(w))\n",
    "                .withColumn(\"Period_dana\", F.datediff(F.col(\"date\"), F.col(\"Prethodni_poraz_datum\"))))\n",
    "\n",
    "w2 = Window.partitionBy(\"team\").orderBy(F.desc(\"Period_dana\"))\n",
    "losses = losses.withColumn(\"rang\", F.row_number().over(w2)).filter(F.col(\"rang\") == 1)\n",
    "\n",
    "(losses.select(\n",
    "    \"team\", \n",
    "    \"opponent\", \n",
    "    \"date\", \n",
    "    \"Prethodni_poraz_od\", \n",
    "    \"Prethodni_poraz_datum\", \n",
    "    \"Period_dana\")\n",
    "          .withColumnRenamed(\"team\", \"Reprezentacija\")\n",
    "          .withColumnRenamed(\"date\", \"Poraz_datum\")\n",
    "          .withColumnRenamed(\"opponent\", \"Poraz od\")\n",
    "          .filter(F.col(\"Reprezentacija\").isin(team_list))\n",
    "          .orderBy(F.desc(\"Period_dana\"))\n",
    "          .limit(20)).show(truncate=False)\n"
   ]
  },
  {
   "cell_type": "markdown",
   "id": "21b58188",
   "metadata": {},
   "source": [
    "+-------------------+-------------------+-----------+------------------+---------------------+-----------+\n",
    "|Reprezentacija     |Poraz od           |Poraz_datum|Prethodni_poraz_od|Prethodni_poraz_datum|Period_dana|\n",
    "+-------------------+-------------------+-----------+------------------+---------------------+-----------+\n",
    "|Yugoslavia         |Basque Country     |1997-12-26 |Netherlands       |1992-03-25           |2102       |\n",
    "|North Korea        |Kuwait             |1998-09-13 |South Korea       |1993-10-28           |1781       |\n",
    "|Cuba               |Trinidad and Tobago|1992-06-24 |Guatemala         |1988-04-30           |1516       |\n",
    "|Haiti              |Colombia           |1989-06-27 |Guatemala         |1985-05-15           |1504       |\n",
    "|Mexico             |Canada             |1990-05-13 |England           |1986-05-17           |1457       |\n",
    "|United States      |Guatemala          |1984-10-14 |Mexico            |1980-11-09           |1435       |\n",
    "|DR Congo           |Ivory Coast        |1985-03-05 |Ghana             |1981-08-02           |1311       |\n",
    "|Spain              |France             |1998-01-28 |Italy             |1994-07-09           |1299       |\n",
    "|Argentina          |Saudi Arabia       |2022-11-22 |Brazil            |2019-07-02           |1239       |\n",
    "|Panama             |Cuba               |1984-03-18 |Honduras          |1980-12-14           |1190       |\n",
    "|Algeria            |Equatorial Guinea  |2022-01-16 |Benin             |2018-10-16           |1188       |\n",
    "|Trinidad and Tobago|Canada             |1988-10-02 |Costa Rica        |1985-07-18           |1172       |\n",
    "|Iraq               |China PR           |2000-09-03 |Kazakhstan        |1997-06-29           |1162       |\n",
    "|Italy              |Spain              |2021-10-06 |Portugal          |2018-09-10           |1122       |\n",
    "|France             |Denmark            |1996-11-09 |Bulgaria          |1993-11-17           |1088       |\n",
    "|Israel             |Northern Ireland   |1984-10-16 |Northern Ireland  |1981-11-18           |1063       |\n",
    "|Saudi Arabia       |Egypt              |1992-09-17 |South Korea       |1989-10-25           |1058       |\n",
    "|Ivory Coast        |Mali               |1983-01-09 |Egypt             |1980-03-08           |1037       |\n",
    "|Costa Rica         |United States      |1988-06-14 |Honduras          |1985-09-08           |1010       |\n",
    "|Colombia           |Bolivia            |1994-04-07 |Argentina         |1991-07-21           |991        |\n",
    "+-------------------+-------------------+-----------+------------------+---------------------+-----------+"
   ]
  }
 ],
 "metadata": {
  "kernelspec": {
   "display_name": "Python 3",
   "language": "python",
   "name": "python3"
  },
  "language_info": {
   "codemirror_mode": {
    "name": "ipython",
    "version": 3
   },
   "file_extension": ".py",
   "mimetype": "text/x-python",
   "name": "python",
   "nbconvert_exporter": "python",
   "pygments_lexer": "ipython3",
   "version": "3.12.1"
  }
 },
 "nbformat": 4,
 "nbformat_minor": 5
}
